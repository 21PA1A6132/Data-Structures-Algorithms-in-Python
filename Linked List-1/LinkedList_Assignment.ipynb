{
  "nbformat": 4,
  "nbformat_minor": 0,
  "metadata": {
    "colab": {
      "provenance": []
    },
    "kernelspec": {
      "name": "python3",
      "display_name": "Python 3"
    },
    "language_info": {
      "name": "python"
    }
  },
  "cells": [
    {
      "cell_type": "markdown",
      "source": [
        "#Linked List"
      ],
      "metadata": {
        "id": "kwhaFdcT_Vzd"
      }
    },
    {
      "cell_type": "code",
      "source": [
        "\n",
        "class Node :\n",
        "  def __init__(self,data):\n",
        "    self.data = data\n",
        "    self.next = None\n",
        "\n",
        "def takeInput() :\n",
        "    head = None\n",
        "    tail = None\n",
        "\n",
        "    datas = list(map(int, input().rstrip().split(\" \")))\n",
        "\n",
        "    i = 0\n",
        "    while (i < len(datas)) and (datas[i] != -1) :\n",
        "        data = datas[i]\n",
        "        newNode = Node(data)\n",
        "\n",
        "        if head is None :\n",
        "            head = newNode\n",
        "            tail = newNode\n",
        "\n",
        "        else :\n",
        "            tail.next = newNode\n",
        "            tail = newNode\n",
        "\n",
        "        i += 1\n",
        "\n",
        "    return head\n",
        "\n",
        "def printLinkedList(head):\n",
        "  while head is not None:\n",
        "    print(head.data,end=\" \")\n",
        "    head = head.next\n",
        "  print()\n",
        "\n"
      ],
      "metadata": {
        "id": "JuP2SmBh9kp8"
      },
      "execution_count": null,
      "outputs": []
    },
    {
      "cell_type": "markdown",
      "source": [
        "#Find a Node in a Linked List"
      ],
      "metadata": {
        "id": "cHz29z0VF59A"
      }
    },
    {
      "cell_type": "markdown",
      "source": [
        "You have been given a singly linked list of integers. Write a function that returns the index/position of integer data denoted by 'N' (if it exists). Return -1 otherwise."
      ],
      "metadata": {
        "id": "7SC7R2AkoTL0"
      }
    },
    {
      "cell_type": "code",
      "source": [
        "def findNode(head,n):\n",
        "  if head is None:\n",
        "    return -1\n",
        "  if head.data == n:\n",
        "    return 0\n",
        "  smallans = findNode(head.next,n)\n",
        "  if smallans!=-1:\n",
        "    return 1+smallans\n",
        "  return -1\n",
        "\n",
        "# Main.\n",
        "t = int(input().rstrip())\n",
        "while t > 0 :\n",
        "    head = takeInput()\n",
        "    n = int(input().rstrip())\n",
        "    ans = findNode(head, n)\n",
        "    if ans!=-1 :\n",
        "      print(f'Given node is found at index {ans}')\n",
        "    else:\n",
        "      print(f'Given node is not found')\n",
        "    t -= 1"
      ],
      "metadata": {
        "colab": {
          "base_uri": "https://localhost:8080/"
        },
        "id": "NPoKzM9S_Nxe",
        "outputId": "1b0830da-6bc2-4976-8b24-98a689bda96f"
      },
      "execution_count": null,
      "outputs": [
        {
          "output_type": "stream",
          "name": "stdout",
          "text": [
            "2\n",
            "3 4 5 2 6 1 9 -1\n",
            "5\n",
            "Given node is found at index 2\n",
            "10 20 30 40 50 60 70 -1\n",
            "7\n",
            "Given node is not found\n"
          ]
        }
      ]
    },
    {
      "cell_type": "code",
      "source": [
        "def appendLastNToFirst(head, n) :\n",
        "    #Your code goes here\n",
        "    slow = head\n",
        "    fast = head\n",
        "    if head is None:\n",
        "        return head\n",
        "    for _ in range(n):\n",
        "        if fast.next :\n",
        "            fast = fast.next\n",
        "        else:\n",
        "            return head\n",
        "    while fast.next:\n",
        "        fast = fast.next\n",
        "        slow = slow.next\n",
        "    fast.next = head\n",
        "    head = slow.next\n",
        "    slow.next = None\n",
        "\n",
        "    return head\n",
        "\n",
        "#main\n",
        "t = int(input().rstrip())\n",
        "while t > 0 :\n",
        "\n",
        "    head = takeInput()\n",
        "    n = int(input().rstrip())\n",
        "\n",
        "    head = appendLastNToFirst(head, n)\n",
        "    printLinkedList(head)\n",
        "\n",
        "    t -= 1"
      ],
      "metadata": {
        "colab": {
          "base_uri": "https://localhost:8080/"
        },
        "id": "wR0Mcnhfk4t7",
        "outputId": "0b4704b0-55a0-4ebc-ddad-8dc5d3337950"
      },
      "execution_count": null,
      "outputs": [
        {
          "output_type": "stream",
          "name": "stdout",
          "text": [
            "2\n",
            "1 2 3 4 5 -1\n",
            "2\n",
            "4 5 1 2 3 \n",
            "10 20 30 40 50 60 -1\n",
            "3\n",
            "40 50 60 10 20 30 \n"
          ]
        }
      ]
    },
    {
      "cell_type": "markdown",
      "source": [
        "#Eliminate Duplicates\n",
        "\n",
        "You have been given a singly linked list of integers where the elements are sorted in ascending order. Write a function that removes the consecutive duplicate values such that the given list only contains unique elements and returns the head to the updated"
      ],
      "metadata": {
        "id": "mxcnEgCV8eM2"
      }
    },
    {
      "cell_type": "code",
      "source": [
        "def removeDuplicates(head) :\n",
        "    #Your code goes here\n",
        "    curr = head\n",
        "    if head is None or head.next is None:\n",
        "        return head\n",
        "    while curr.next :\n",
        "        if curr.data == curr.next.data:\n",
        "            curr.next = curr.next.next\n",
        "        else:\n",
        "            curr = curr.next\n",
        "    return head\n",
        "\n",
        "\n",
        "#main\n",
        "t = int(input().strip())\n",
        "\n",
        "while t > 0 :\n",
        "    head = takeInput()\n",
        "\n",
        "    head = removeDuplicates(head)\n",
        "    printLinkedList(head)\n",
        "\n",
        "    t -= 1\n"
      ],
      "metadata": {
        "colab": {
          "base_uri": "https://localhost:8080/"
        },
        "id": "ItMSYwmW8mW0",
        "outputId": "bad8f212-67d3-402f-b710-e5ee5377f231"
      },
      "execution_count": null,
      "outputs": [
        {
          "output_type": "stream",
          "name": "stdout",
          "text": [
            "1\n",
            "1 2 3 3 3 3 4 4 4 5 5 7 -1\n",
            "1 2 3 4 5 7 \n"
          ]
        }
      ]
    },
    {
      "cell_type": "markdown",
      "source": [
        "#Print Reversed Linked List\n",
        "\n",
        "You have been given a singly linked list of integers. Write a function to print the list in a reverse order.\n",
        "\n",
        "To explain it further, you need to start printing the data from the tail and move towards the head of the list, printing the head data at the end."
      ],
      "metadata": {
        "id": "v_ycir40HKN5"
      }
    },
    {
      "cell_type": "code",
      "source": [
        "def printReverse(head) :\n",
        "    if head is None:\n",
        "        return\n",
        "\n",
        "    printReverse(head.next)\n",
        "\n",
        "    print(head.data, end=\" \")\n",
        "\n",
        "#main\n",
        "\n",
        "t = int(input().rstrip())\n",
        "\n",
        "while t > 0 :\n",
        "\n",
        "    head = takeInput()\n",
        "    printReverse(head)\n",
        "    print()\n",
        "\n",
        "    t -= 1"
      ],
      "metadata": {
        "colab": {
          "base_uri": "https://localhost:8080/"
        },
        "id": "16U0JNNyHJyC",
        "outputId": "c8339e8f-7eac-42f4-daa5-3b24f89712ee"
      },
      "execution_count": null,
      "outputs": [
        {
          "output_type": "stream",
          "name": "stdout",
          "text": [
            "1\n",
            "1 2 3 4 5 -1\n",
            "5 4 3 2 1 \n"
          ]
        }
      ]
    },
    {
      "cell_type": "markdown",
      "source": [
        "#Palindrome Linked List\n",
        "\n",
        "You have been given a head to a singly linked list of integers. Write a function check to whether the list given is a 'Palindrome' or not."
      ],
      "metadata": {
        "id": "OEPAylQIKfcN"
      }
    },
    {
      "cell_type": "code",
      "source": [
        "def getmidlist(head):\n",
        "    if head is None or head.next is None:\n",
        "        return head\n",
        "    slow,fast = head,head\n",
        "    while fast.next and fast.next.next:\n",
        "        slow = slow.next\n",
        "        fast = fast.next.next\n",
        "    return slow\n",
        "\n",
        "\n",
        "def reverse(curr):\n",
        "    prev = None\n",
        "    nextnode = None\n",
        "    while curr:\n",
        "        nextnode = curr.next\n",
        "        curr.next = prev\n",
        "        prev= curr\n",
        "        curr = nextnode\n",
        "\n",
        "    return prev\n",
        "\n",
        "\n",
        "\n",
        "def isPalindrome(head) :\n",
        "\n",
        "\n",
        "    mid = getmidlist(head)\n",
        "    reverseHead = reverse(mid)\n",
        "\n",
        "    while(reverseHead and head):\n",
        "        if head.data != reverseHead.data:\n",
        "            return False\n",
        "        head = head.next\n",
        "        reverseHead = reverseHead.next\n",
        "\n",
        "    return True\n",
        "\n",
        "\n",
        "#main\n",
        "t = int(input().rstrip())\n",
        "\n",
        "while t > 0 :\n",
        "\n",
        "    head = takeInput()\n",
        "\n",
        "    if isPalindrome(head) :\n",
        "        print('true')\n",
        "    else :\n",
        "        print('false')\n",
        "\n",
        "    t -= 1"
      ],
      "metadata": {
        "colab": {
          "base_uri": "https://localhost:8080/"
        },
        "id": "NlTh4ZQBKoS1",
        "outputId": "96fa9a9b-ea97-43e5-e048-9dfb82ecc1f8"
      },
      "execution_count": null,
      "outputs": [
        {
          "output_type": "stream",
          "name": "stdout",
          "text": [
            "1\n",
            "9 2 3 3 2 9 -1\n",
            "true\n"
          ]
        }
      ]
    }
  ]
}