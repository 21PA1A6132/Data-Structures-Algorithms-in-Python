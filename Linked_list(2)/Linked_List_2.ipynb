{
  "nbformat": 4,
  "nbformat_minor": 0,
  "metadata": {
    "colab": {
      "provenance": []
    },
    "kernelspec": {
      "name": "python3",
      "display_name": "Python 3"
    },
    "language_info": {
      "name": "python"
    }
  },
  "cells": [
    {
      "cell_type": "code",
      "execution_count": null,
      "metadata": {
        "id": "khyGR6Lk8sNU",
        "colab": {
          "base_uri": "https://localhost:8080/"
        },
        "outputId": "32ae8bf9-aa8f-4499-977a-47ef1ce8789f"
      },
      "outputs": [
        {
          "output_type": "stream",
          "name": "stdout",
          "text": [
            "1 2 3 4 5 -1\n",
            "1-> 2-> 3-> 4-> 5-> None\n"
          ]
        }
      ],
      "source": [
        "class Node:\n",
        "\n",
        "  def __init__(self,data):\n",
        "    self.data = data\n",
        "    self.next = None\n",
        "\n",
        "def takeInput():\n",
        "  inputlist = [int(x) for x in input().split()]\n",
        "  head,tail = None,None\n",
        "  for data in inputlist:\n",
        "    if data == -1:\n",
        "      break\n",
        "    newnode = Node(data)\n",
        "    if head is None:\n",
        "      head = newnode\n",
        "      tail = newnode\n",
        "    else:\n",
        "      tail.next = newnode\n",
        "      tail = newnode\n",
        "  return head\n",
        "\n",
        "\n",
        "def printLinkedList(head):\n",
        "  while head:\n",
        "    print(str(head.data)+ \"->\",end =\" \")\n",
        "    head=head.next\n",
        "  print(\"None\")\n",
        "\n",
        "\n",
        "\n",
        "head = takeInput()\n",
        "printLinkedList(head)\n",
        "\n",
        "\n",
        "\n"
      ]
    },
    {
      "cell_type": "code",
      "source": [
        "def reverseLL(head):\n",
        "  if head is None or head.next is None:\n",
        "    return head\n",
        "  smallhead  = reverseLL(head.next)\n",
        "  head.next.next = head\n",
        "  head.next = None\n",
        "  return smallhead\n",
        "\n",
        "def reverseLL1(head):\n",
        "  if head is None or head.next is None:\n",
        "    return head\n",
        "  prev = None\n",
        "  curr = head\n",
        "  while curr:\n",
        "    nextnode = curr.next\n",
        "    curr.next = prev\n",
        "    prev = curr\n",
        "    curr = nextnode\n",
        "  return prev\n",
        "\n",
        "def getmidlist(head):\n",
        "  slow = head\n",
        "  fast = head\n",
        "  while fast.next and fast.next.next:\n",
        "    slow = slow.next\n",
        "    fast = fast.next.next\n",
        "  return slow\n",
        "\n",
        "def merge(head1,head2):\n",
        "  nh = None\n",
        "  nt = None\n",
        "  if head1 is None:\n",
        "    return head2\n",
        "  if head2 is None:\n",
        "    return head1\n",
        "  if head1.data<=head2.data:\n",
        "    nh,nt = head1,head1\n",
        "    head1 = head1.next\n",
        "  else:\n",
        "    nh,nt = head2,head2\n",
        "    head2 = head2.next\n",
        "  while head1 and head2:\n",
        "    if head1.data<=head2.data:\n",
        "      nt.next = head1\n",
        "      nt = head1\n",
        "      head1=head1.next\n",
        "    else:\n",
        "      nt.next = head2\n",
        "      nt = head2\n",
        "      head2=head2.next\n",
        "  if head1:\n",
        "        nt.next = head1\n",
        "  if head2:\n",
        "        nt.next = head2\n",
        "  return nh\n",
        "def mergesort(head):\n",
        "  if head is None or head.next is None:\n",
        "    return head\n",
        "  mid = getmidlist(head)\n",
        "  head2= mid.next\n",
        "  mid.next = None\n",
        "  head1 = mergesort(head)\n",
        "  head2 = mergesort(head2)\n",
        "  newhead = merge(head1,head2)\n",
        "  return newhead\n",
        "\n",
        "head = takeInput()\n",
        "\n",
        "printLinkedList(head)\n",
        "\n",
        "#reversehead = reverseLL1(head)\n",
        "newhead = mergesort(head)\n",
        "\n",
        "printLinkedList(newhead)"
      ],
      "metadata": {
        "colab": {
          "base_uri": "https://localhost:8080/"
        },
        "id": "svjzwAf9FRTu",
        "outputId": "67a36dbc-23b4-49a9-b610-08b86b9380ee"
      },
      "execution_count": null,
      "outputs": [
        {
          "output_type": "stream",
          "name": "stdout",
          "text": [
            "5 9 2 17 4 3\n",
            "5-> 9-> 2-> 17-> 4-> 3-> None\n",
            "2-> 3-> 4-> 5-> 9-> 17-> None\n"
          ]
        }
      ]
    }
  ]
}