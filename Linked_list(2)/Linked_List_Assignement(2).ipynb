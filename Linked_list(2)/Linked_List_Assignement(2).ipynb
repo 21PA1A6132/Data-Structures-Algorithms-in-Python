{
  "nbformat": 4,
  "nbformat_minor": 0,
  "metadata": {
    "colab": {
      "provenance": []
    },
    "kernelspec": {
      "name": "python3",
      "display_name": "Python 3"
    },
    "language_info": {
      "name": "python"
    }
  },
  "cells": [
    {
      "cell_type": "markdown",
      "source": [
        "#Linked List"
      ],
      "metadata": {
        "id": "fxnDNp6Xev4G"
      }
    },
    {
      "cell_type": "code",
      "source": [
        "class Node:\n",
        "\n",
        "  def __init__(self,data):\n",
        "    self.data = data\n",
        "    self.next = None\n",
        "\n",
        "def takeInput():\n",
        "  inputlist = [int(x) for x in input().split()]\n",
        "  head,tail = None,None\n",
        "  for data in inputlist:\n",
        "    if data == -1:\n",
        "      break\n",
        "    newnode = Node(data)\n",
        "    if head is None:\n",
        "      head = newnode\n",
        "      tail = newnode\n",
        "    else:\n",
        "      tail.next = newnode\n",
        "      tail = newnode\n",
        "  return head\n",
        "\n",
        "\n",
        "def printLinkedList(head):\n",
        "  while head:\n",
        "    print(str(head.data)+ \"->\",end =\" \")\n",
        "    head=head.next\n",
        "  print(\"None\")\n",
        "\n",
        "\n"
      ],
      "metadata": {
        "id": "S_YImKxYetme"
      },
      "execution_count": 1,
      "outputs": []
    },
    {
      "cell_type": "markdown",
      "source": [
        "#Find a Node in LL Recursively\n",
        "\n",
        "Given a singly linked list of integers and an integer n, find and return the index for the first occurrence of 'n' in the linked list. -1 otherwise.\n",
        "Follow a recursive approach to solve this.\n"
      ],
      "metadata": {
        "id": "7_9s-Y1GeW8G"
      }
    },
    {
      "cell_type": "code",
      "execution_count": null,
      "metadata": {
        "id": "MN6C5qAYhD78",
        "colab": {
          "base_uri": "https://localhost:8080/"
        },
        "outputId": "51ced682-18cc-406e-e0ce-2e01da9e222d"
      },
      "outputs": [
        {
          "output_type": "stream",
          "name": "stdout",
          "text": [
            "2\n",
            "1 2 3 4 5 -1\n",
            "3\n",
            "2\n",
            "10 20 30 40 50 -1\n",
            "4\n",
            "-1\n"
          ]
        }
      ],
      "source": [
        "def findNodeRec(head, n) :\n",
        "    if head is None:\n",
        "        return -1\n",
        "    if head.data == n:\n",
        "        return 0\n",
        "    ans =findNodeRec(head.next,n)\n",
        "    if ans !=-1:\n",
        "        return 1+ ans\n",
        "    return ans\n",
        "\n",
        "\n",
        "#main\n",
        "t = int(input().rstrip())\n",
        "\n",
        "while t > 0 :\n",
        "\n",
        "    head = takeInput()\n",
        "    n = int(input().rstrip())\n",
        "\n",
        "    print(findNodeRec(head, n))\n",
        "\n",
        "    t -= 1"
      ]
    },
    {
      "cell_type": "markdown",
      "source": [
        "#Even After Odd Linked List\n",
        "\n",
        "For a given singly linked list of integers, arrange the nodes such that all the even number nodes are placed after the all odd number nodes. The relative order of the odd and even terms should remain unchanged.\n"
      ],
      "metadata": {
        "id": "RcTg3Jnakz9j"
      }
    },
    {
      "cell_type": "code",
      "source": [
        "def evenAfterOdd(head) :\n",
        "    if not head:\n",
        "        return head\n",
        "\n",
        "    oh,ot = None,None\n",
        "    eh,et =  None,None\n",
        "\n",
        "    curr = head\n",
        "\n",
        "    while curr:\n",
        "        if curr.data %2!=0:\n",
        "            if oh is None:\n",
        "                oh = curr\n",
        "                ot = curr\n",
        "            else:\n",
        "                ot.next = curr\n",
        "                ot = curr\n",
        "\n",
        "        else:\n",
        "            if eh is None:\n",
        "                eh = curr\n",
        "                et = curr\n",
        "            else:\n",
        "                et.next = curr\n",
        "                et = curr\n",
        "\n",
        "        curr = curr.next\n",
        "\n",
        "    if oh  is None :\n",
        "        return eh\n",
        "\n",
        "    if eh is None:\n",
        "        return oh\n",
        "\n",
        "    et.next = None\n",
        "    ot.next = eh\n",
        "\n",
        "    return oh\n",
        "\n",
        "\n",
        "#main\n",
        "t = int(input().rstrip())\n",
        "\n",
        "while t > 0 :\n",
        "\n",
        "    head = takeInput()\n",
        "    newHead = evenAfterOdd(head)\n",
        "    printLinkedList(newHead)\n",
        "\n",
        "    t -= 1"
      ],
      "metadata": {
        "colab": {
          "base_uri": "https://localhost:8080/"
        },
        "id": "_yzIohrllmcb",
        "outputId": "2402671f-5ade-4f5a-ca2d-74e1472a914f"
      },
      "execution_count": null,
      "outputs": [
        {
          "output_type": "stream",
          "name": "stdout",
          "text": [
            "2\n",
            "1 11 3 6 8 0 9 -1\n",
            "1-> 11-> 3-> 9-> 6-> 8-> 0-> None\n",
            "1 4 5 2 -1\n",
            "1-> 5-> 4-> 2-> None\n"
          ]
        }
      ]
    },
    {
      "cell_type": "markdown",
      "source": [
        "#Delete every N nodes\n",
        "\n",
        "\n",
        "You have been given a singly linked list of integers along with two integers, 'M,' and 'N.' Traverse the linked list such that you retain the 'M' nodes, then delete the next 'N' nodes. Continue the same until the end of the linked list. Indexing starts from 1.\n",
        "\n",
        "To put it in other words, in the given linked list, you need to delete N nodes after every M nodes."
      ],
      "metadata": {
        "id": "I5wgwIfzKtUH"
      }
    },
    {
      "cell_type": "code",
      "source": [
        "def skipMdeleteN(head, M, N) :\n",
        "    if M == 0:\n",
        "        return None\n",
        "\n",
        "    if N == 0:\n",
        "        return head\n",
        "\n",
        "    curr = head\n",
        "    prev = None\n",
        "\n",
        "    while curr is not None:\n",
        "        take = 0\n",
        "        while curr is not None and take < M:\n",
        "            prev = curr\n",
        "            curr = curr.next\n",
        "            take += 1\n",
        "\n",
        "        skip = 0\n",
        "        while curr is not None and skip < N:\n",
        "            curr = curr.next\n",
        "            skip += 1\n",
        "\n",
        "        if prev is not None:\n",
        "            prev.next = curr\n",
        "\n",
        "    return head\n",
        "\n",
        "\n",
        "#main\n",
        "\n",
        "t = int(input().rstrip())\n",
        "\n",
        "while t > 0 :\n",
        "\n",
        "    head = takeInput()\n",
        "    m_n = input().strip().split(\" \")\n",
        "\n",
        "    m = int(m_n[0])\n",
        "    n = int(m_n[1])\n",
        "\n",
        "    newHead = skipMdeleteN(head, m, n)\n",
        "    printLinkedList(newHead)\n",
        "\n",
        "    t -= 1"
      ],
      "metadata": {
        "colab": {
          "base_uri": "https://localhost:8080/"
        },
        "id": "VxN8sttXJ9FW",
        "outputId": "b53306e8-11de-43cd-b84d-9780378a740b"
      },
      "execution_count": null,
      "outputs": [
        {
          "output_type": "stream",
          "name": "stdout",
          "text": [
            "2\n",
            "10 20 30 40 50 60 -1\n",
            "0 1\n",
            "None\n",
            "1 2 3 4 5 6 7 8 -1\n",
            "2 3\n",
            "1-> 2-> 6-> 7-> None\n"
          ]
        }
      ]
    },
    {
      "cell_type": "markdown",
      "source": [
        "#Swap Nodes of Linked List\n",
        "\n",
        "You have been given a singly linked list of integers along with two integers, 'i,' and 'j.' Swap the nodes that are present at the 'i-th' and 'j-th' positions and return the new head to the list.\n",
        "\n",
        "Note :\n",
        "1. Remember, You need to swap the nodes, not only the data.\n",
        "2. Indexing starts from 0.\n",
        "3. No need to print the list, it has already been taken care."
      ],
      "metadata": {
        "id": "q-FPPOueVSXA"
      }
    },
    {
      "cell_type": "code",
      "source": [
        "def swapNodes(head, i, j) :\n",
        "    if i == j:\n",
        "        return head\n",
        "\n",
        "    prev1 = None\n",
        "    curr1 = head\n",
        "    prev2 = None\n",
        "    curr2 = head\n",
        "\n",
        "    for _ in range(i):\n",
        "        prev1 = curr1\n",
        "        curr1 = curr1.next\n",
        "    for _ in range(j):\n",
        "        prev2 = curr2\n",
        "        curr2 = curr2.next\n",
        "\n",
        "    if prev1 is not None:\n",
        "        prev1.next = curr2\n",
        "    else:\n",
        "        head = curr2\n",
        "\n",
        "    if prev2 is not None:\n",
        "        prev2.next = curr1\n",
        "    else:\n",
        "        head = curr1\n",
        "\n",
        "    curr1.next, curr2.next = curr2.next, curr1.next\n",
        "\n",
        "    return head\n",
        "\n",
        "\n",
        "#main\n",
        "t = int(input().rstrip())\n",
        "\n",
        "while t > 0 :\n",
        "\n",
        "    head = takeInput()\n",
        "    i_j = input().strip().split(\" \")\n",
        "\n",
        "    i = int(i_j[0])\n",
        "    j = int(i_j[1])\n",
        "\n",
        "    newHead = swapNodes(head, i, j)\n",
        "    printLinkedList(newHead)\n",
        "\n",
        "    t -= 1"
      ],
      "metadata": {
        "colab": {
          "base_uri": "https://localhost:8080/"
        },
        "id": "qHGZpiU-K38z",
        "outputId": "e3d5f69f-73e3-4319-afea-9b5fee01cf59"
      },
      "execution_count": null,
      "outputs": [
        {
          "output_type": "stream",
          "name": "stdout",
          "text": [
            "2\n",
            "10 20 30 40 -1\n",
            "0 1\n",
            "20-> 10-> 30-> 40-> None\n",
            "70 80 90 100 120\n",
            "1 2\n",
            "70-> 90-> 80-> 100-> 120-> None\n"
          ]
        }
      ]
    },
    {
      "cell_type": "markdown",
      "source": [
        "#K-Reverse\n",
        "\n",
        "Given a singly linked list of integers, reverse the nodes of the linked list 'k' at a time and return its modified list.\n",
        "\n",
        "'k' is a positive integer and is less than or equal to the length of the linked list. If the number of nodes is not a multiple of 'k,' then left-out nodes, in the end, should be reversed as well."
      ],
      "metadata": {
        "id": "FnE_pzaRiQ9H"
      }
    },
    {
      "cell_type": "code",
      "source": [
        "def kReverse(head, k) :\n",
        "\t#Your code goes here\n",
        "    if head is None or head.next is None or k<=1:\n",
        "        return head\n",
        "    prev = None\n",
        "    curr = head\n",
        "    count=0\n",
        "    while curr and k>count:\n",
        "        nextnode = curr.next\n",
        "        curr.next = prev\n",
        "        prev = curr\n",
        "        curr = nextnode\n",
        "        count+=1\n",
        "    if curr:\n",
        "        head.next = kReverse(curr,k)\n",
        "    return prev\n",
        "\n",
        "\n",
        "#main\n",
        "\n",
        "t = int(input().rstrip())\n",
        "\n",
        "while t > 0 :\n",
        "\n",
        "    head = takeInput()\n",
        "    k = int(input().strip())\n",
        "\n",
        "    newHead = kReverse(head, k)\n",
        "    printLinkedList(newHead)\n",
        "\n",
        "    t -= 1"
      ],
      "metadata": {
        "colab": {
          "base_uri": "https://localhost:8080/"
        },
        "id": "5yS_HI2AiECP",
        "outputId": "a469cf7c-871a-4c81-9f4b-5d015375d6e7"
      },
      "execution_count": null,
      "outputs": [
        {
          "output_type": "stream",
          "name": "stdout",
          "text": [
            "1 \n",
            "1 2 3 4 5 -1\n",
            "2\n",
            "2-> 1-> 4-> 3-> 5-> None\n"
          ]
        }
      ]
    },
    {
      "cell_type": "markdown",
      "source": [
        "#Bubble Sort Linked-List\n",
        "\n",
        "Given a singly linked list of integers, sort it using 'Bubble Sort.'"
      ],
      "metadata": {
        "id": "B0cpg-72vYH-"
      }
    },
    {
      "cell_type": "code",
      "source": [
        "def lengthLL(head):\n",
        "    length =0\n",
        "    while head:\n",
        "        length+=1\n",
        "        head=head.next\n",
        "    return length\n",
        "\n",
        "\n",
        "\n",
        "def bubbleSort(head) :\n",
        "\t#Your code goes here\n",
        "    n = lengthLL(head)\n",
        "    for i in range(n):\n",
        "        curr = head\n",
        "        prev = None\n",
        "        while curr and curr.next:\n",
        "            if curr.data>curr.next.data:\n",
        "                if prev:\n",
        "                    prev.next = curr.next\n",
        "                else:\n",
        "                    head = curr.next\n",
        "                temp = curr.next.next\n",
        "                curr.next.next = curr\n",
        "                curr.next = temp\n",
        "                if prev:\n",
        "                    prev = prev.next\n",
        "                else:\n",
        "                    prev = head\n",
        "            else:\n",
        "                prev = curr\n",
        "                curr = curr.next\n",
        "    return head\n",
        "\n",
        "\n",
        "\n",
        "#main\n",
        "\n",
        "#main\n",
        "head = takeInput()\n",
        "head = bubbleSort(head)\n",
        "printLinkedList(head)\n"
      ],
      "metadata": {
        "colab": {
          "base_uri": "https://localhost:8080/"
        },
        "id": "fcQh1GLsvdFa",
        "outputId": "7c3e8243-7b9e-4cac-8251-741b0c2db2fa"
      },
      "execution_count": 2,
      "outputs": [
        {
          "output_type": "stream",
          "name": "stdout",
          "text": [
            "10 9 8 7 6 5 4 3 2 1 -1\n",
            "1-> 2-> 3-> 4-> 5-> 6-> 7-> 8-> 9-> 10-> None\n"
          ]
        }
      ]
    }
  ]
}