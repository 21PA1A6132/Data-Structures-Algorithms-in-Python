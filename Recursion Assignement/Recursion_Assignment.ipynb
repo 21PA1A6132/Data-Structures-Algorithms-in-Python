{
  "nbformat": 4,
  "nbformat_minor": 0,
  "metadata": {
    "colab": {
      "provenance": []
    },
    "kernelspec": {
      "name": "python3",
      "display_name": "Python 3"
    },
    "language_info": {
      "name": "python"
    }
  },
  "cells": [
    {
      "cell_type": "markdown",
      "source": [
        "#Geometric Sum\n",
        "Given k, find the geometric sum i.e.\n",
        "1 + 1/2 + 1/4 + 1/8 + ... + 1/(2^k)"
      ],
      "metadata": {
        "id": "95ZLmhcLRUH5"
      }
    },
    {
      "cell_type": "code",
      "execution_count": null,
      "metadata": {
        "colab": {
          "base_uri": "https://localhost:8080/"
        },
        "id": "3Ym4B3QpRHeq",
        "outputId": "61b51a3d-8a4d-4942-b461-53efbcf69087"
      },
      "outputs": [
        {
          "output_type": "stream",
          "name": "stdout",
          "text": [
            "5\n",
            "1 + 1/2 + 1/4 + 1/8 + ... + 1/(2^5) = 1.96875\n"
          ]
        }
      ],
      "source": [
        "def geometric_sum(k):\n",
        "  if k==0:\n",
        "    return 1\n",
        "  return 2**(-k) + geometric_sum(k-1)\n",
        "\n",
        "k = int(input())\n",
        "print(f'1 + 1/2 + 1/4 + 1/8 + ... + 1/(2^{k}) = {geometric_sum(k)}')"
      ]
    },
    {
      "cell_type": "markdown",
      "source": [
        "#Check Palindrome\n",
        "\n",
        "Determine if a given string ‘S’ is a palindrome using recursion. <br>Return a Boolean value of true if it is a palindrome and false if it is not."
      ],
      "metadata": {
        "id": "QS_-lL3VSxV9"
      }
    },
    {
      "cell_type": "code",
      "source": [
        "def ispalindrome(s):\n",
        "  if len(s)<=1:\n",
        "    return True\n",
        "  if s[0]!=s[-1]:\n",
        "    return False\n",
        "  return ispalindrome(s[1:-1])\n",
        "\n",
        "s = input()\n",
        "ans = \"palindrome\" if ispalindrome(s) else \"not a palindrome\"\n",
        "print(f'Given string {s} is {ans}')\n"
      ],
      "metadata": {
        "colab": {
          "base_uri": "https://localhost:8080/"
        },
        "id": "UH46AxrbS5uI",
        "outputId": "6d6d6b89-0080-41ae-e069-4bc4fac92692"
      },
      "execution_count": null,
      "outputs": [
        {
          "output_type": "stream",
          "name": "stdout",
          "text": [
            "karthi\n",
            "Given string karthi is not a palindrome\n"
          ]
        }
      ]
    },
    {
      "cell_type": "markdown",
      "source": [
        "#Sum of digits\n",
        "\n",
        "Write a recursive function that returns the sum of the digits of a given integer."
      ],
      "metadata": {
        "id": "e8QIOQRdU97j"
      }
    },
    {
      "cell_type": "code",
      "source": [
        "def sum_digits(num):\n",
        "  if num<=0:\n",
        "    return 0\n",
        "  return num%10 + sum_digits(num//10)\n",
        "\n",
        "num = int(input())\n",
        "print(f'sum of digits of {num} is {sum_digits(num)}')"
      ],
      "metadata": {
        "colab": {
          "base_uri": "https://localhost:8080/"
        },
        "id": "164glEzNUQRC",
        "outputId": "d2890cc8-7424-4097-edab-e11677dc5237"
      },
      "execution_count": null,
      "outputs": [
        {
          "output_type": "stream",
          "name": "stdout",
          "text": [
            "111\n",
            "sum of digits of 111 is 3\n"
          ]
        }
      ]
    },
    {
      "cell_type": "markdown",
      "source": [
        "#Multipilcation\n",
        "\n",
        "Given two integers M & N, calculate and return their multiplication using recursion. <br> You can only use subtraction and addition for your calculation. No other operators are allowed."
      ],
      "metadata": {
        "id": "EUfKRgzjVCwa"
      }
    },
    {
      "cell_type": "code",
      "source": [
        "def Multiply(a,b):\n",
        "  if b==1:\n",
        "    return a\n",
        "  return a+ Multiply(a,b-1)\n",
        "\n",
        "num1 = int(input())\n",
        "num2 = int(input())\n",
        "num2 = min(num1,num2)\n",
        "num1 = max(num1,num2)\n",
        "print(f'{num1} * {num2} = {Multiply(num1,num2)}')\n"
      ],
      "metadata": {
        "colab": {
          "base_uri": "https://localhost:8080/"
        },
        "id": "5eXc8K7IVRv9",
        "outputId": "20eba9a7-a2e7-41e8-90e3-bdd9f2b7e2fa"
      },
      "execution_count": null,
      "outputs": [
        {
          "output_type": "stream",
          "name": "stdout",
          "text": [
            "132\n",
            "2\n",
            "132 * 2 = 264\n"
          ]
        }
      ]
    },
    {
      "cell_type": "markdown",
      "source": [
        "#Count Zeros\n",
        "\n",
        "Given an integer N, count and return the number of zeros that are present in the given integer using recursion."
      ],
      "metadata": {
        "id": "xZWuHLDHW-HM"
      }
    },
    {
      "cell_type": "code",
      "source": [
        "count = 0\n",
        "\n",
        "def count_zeros(num):\n",
        "    global count\n",
        "    if num == 0:\n",
        "        return 1 if count == 0 else count\n",
        "    if num > 0:\n",
        "        if num % 10 == 0:\n",
        "            count += 1\n",
        "        count_zeros(num // 10)\n",
        "\n",
        "    return count\n",
        "\n",
        "num = int(input(\"Enter a number: \"))\n",
        "print(f'{num} has {count_zeros(num)} zeros')\n"
      ],
      "metadata": {
        "colab": {
          "base_uri": "https://localhost:8080/"
        },
        "id": "SIrga4Q7W-ah",
        "outputId": "244b74af-4350-41f5-dec1-3c22e96f47ba"
      },
      "execution_count": null,
      "outputs": [
        {
          "output_type": "stream",
          "name": "stdout",
          "text": [
            "Enter a number: 1020\n",
            "1020 has 2 zeros\n"
          ]
        }
      ]
    },
    {
      "cell_type": "markdown",
      "source": [
        "#String to Integer\n",
        "\n",
        "Write a recursive function to convert a given string into the number it represents."
      ],
      "metadata": {
        "id": "Rc_2YPx1anBQ"
      }
    },
    {
      "cell_type": "code",
      "source": [
        "def toint(s):\n",
        "    if(int(s)==0):\n",
        "        return 0\n",
        "    elif s[0]!='0' :\n",
        "        return s\n",
        "    return toint(s[1:])\n",
        "\n",
        "string = input()\n",
        "print(toint(string))"
      ],
      "metadata": {
        "colab": {
          "base_uri": "https://localhost:8080/"
        },
        "id": "cSKsly7bYq7P",
        "outputId": "8543f3c5-1ef2-49ce-986e-497949aa025a"
      },
      "execution_count": null,
      "outputs": [
        {
          "output_type": "stream",
          "name": "stdout",
          "text": [
            "00123\n",
            "123\n"
          ]
        }
      ]
    },
    {
      "cell_type": "markdown",
      "source": [
        "#PairStar\n",
        "\n",
        "Given a string S, compute recursively a new string where identical chars that are adjacent in the original string are separated from each other by a \"*\"."
      ],
      "metadata": {
        "id": "ScfWp7mUavr4"
      }
    },
    {
      "cell_type": "code",
      "source": [
        "def pairstar(s):\n",
        "  if len(s)==1:\n",
        "    return s\n",
        "  if s[0]==s[1]:\n",
        "    return s[0]+'*'+pairstar(s[1:])\n",
        "  return s[0]+pairstar(s[1:])\n",
        "\n",
        "s = input()\n",
        "print(pairstar(s))"
      ],
      "metadata": {
        "colab": {
          "base_uri": "https://localhost:8080/"
        },
        "id": "L6zNs7icZ2EY",
        "outputId": "be9350b5-8808-4a27-a66c-396a69ae3ea9"
      },
      "execution_count": null,
      "outputs": [
        {
          "output_type": "stream",
          "name": "stdout",
          "text": [
            "hello\n",
            "hel*lo\n"
          ]
        }
      ]
    },
    {
      "cell_type": "markdown",
      "source": [
        "# Check AB\n",
        "Suppose you have a string, S, made up of only 'a's and 'b's. Write a recursive function that checks if the string was generated using the following rules:\n",
        "\n",
        "a. The string begins with an 'a'<br>\n",
        "b. Each 'a' is followed by nothing or an 'a' or \"bb\"<br>\n",
        "c. Each \"bb\" is followed by nothing or an 'a'<br>\n",
        "If all the rules are followed by the given string, return true otherwise return false."
      ],
      "metadata": {
        "id": "5CsB9kzX8w2_"
      }
    },
    {
      "cell_type": "code",
      "source": [
        "def checkAB(s):\n",
        "  if len(s)==0:\n",
        "    return True\n",
        "  if s[0]=='a':\n",
        "    if len(s[1:])>1 and s[1:3]=='bb':\n",
        "      return checkAB(s[3:])\n",
        "    else:\n",
        "      return checkAB(s[1:])\n",
        "  else:\n",
        "    return False\n",
        "\n",
        "s = input()\n",
        "print(checkAB(s))"
      ],
      "metadata": {
        "colab": {
          "base_uri": "https://localhost:8080/"
        },
        "id": "YIcc11c-87FI",
        "outputId": "088c289c-7df9-49d5-aeb2-9f112131af31"
      },
      "execution_count": 5,
      "outputs": [
        {
          "output_type": "stream",
          "name": "stdout",
          "text": [
            "abbabba\n",
            "True\n"
          ]
        }
      ]
    },
    {
      "cell_type": "markdown",
      "source": [
        "# Staircase\n",
        "\n",
        "A child is running up a staircase with N steps, and can hop either 1 step, 2 steps or 3 steps at a time. Implement a method to count how many possible ways the child can run up to the stairs. You need to return number of possible ways W."
      ],
      "metadata": {
        "id": "SrHKcI5dBJyq"
      }
    },
    {
      "cell_type": "code",
      "source": [
        "def staircase(n):\n",
        "    if n ==0:\n",
        "        return 1\n",
        "    if n<0 :\n",
        "        return 0\n",
        "\n",
        "    x,y,z = staircase(n-1) ,staircase(n-2),staircase(n-3)\n",
        "    return x+y+z\n",
        "\n",
        "n = int(input())\n",
        "print(staircase(n))\n"
      ],
      "metadata": {
        "colab": {
          "base_uri": "https://localhost:8080/"
        },
        "id": "QNeJRBnPBOgZ",
        "outputId": "2b501bf5-320e-4d9d-d81a-86548d670829"
      },
      "execution_count": 1,
      "outputs": [
        {
          "output_type": "stream",
          "name": "stdout",
          "text": [
            "4\n",
            "7\n"
          ]
        }
      ]
    }
  ]
}