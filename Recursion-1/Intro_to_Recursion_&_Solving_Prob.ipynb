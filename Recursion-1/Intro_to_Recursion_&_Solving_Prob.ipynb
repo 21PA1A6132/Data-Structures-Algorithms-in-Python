{
  "nbformat": 4,
  "nbformat_minor": 0,
  "metadata": {
    "colab": {
      "provenance": []
    },
    "kernelspec": {
      "name": "python3",
      "display_name": "Python 3"
    },
    "language_info": {
      "name": "python"
    }
  },
  "cells": [
    {
      "cell_type": "code",
      "execution_count": 2,
      "metadata": {
        "id": "YU08DnUjXzx6"
      },
      "outputs": [],
      "source": [
        "def fact(n):\n",
        "  if n==0 or n==1:\n",
        "    return 1\n",
        "  return n*fact(n-1)"
      ]
    },
    {
      "cell_type": "code",
      "source": [
        "n = int(input())\n",
        "print(f\"The factorial of {n} is {fact(n)}\")"
      ],
      "metadata": {
        "colab": {
          "base_uri": "https://localhost:8080/"
        },
        "id": "za1aphy1X-9O",
        "outputId": "cf36fce8-dee8-42e1-a041-f092748f4794"
      },
      "execution_count": 4,
      "outputs": [
        {
          "output_type": "stream",
          "name": "stdout",
          "text": [
            "5\n",
            "The factorial of 5 is 120\n"
          ]
        }
      ]
    },
    {
      "cell_type": "code",
      "source": [
        "def sum(n):\n",
        "  if n==1:\n",
        "    return 1\n",
        "  return n+sum(n-1)\n",
        "\n",
        "n = int(input())\n",
        "print(f'sum of first {n} natural numbers is {sum}')"
      ],
      "metadata": {
        "colab": {
          "base_uri": "https://localhost:8080/"
        },
        "id": "H0uvNj2xYbiz",
        "outputId": "4050ede7-e950-487d-a71e-a56a0ae010ec"
      },
      "execution_count": 2,
      "outputs": [
        {
          "output_type": "stream",
          "name": "stdout",
          "text": [
            "10\n",
            "sum of first 10 natural numbers is 55\n"
          ]
        }
      ]
    }
  ]
}