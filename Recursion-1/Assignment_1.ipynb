{
  "nbformat": 4,
  "nbformat_minor": 0,
  "metadata": {
    "colab": {
      "provenance": []
    },
    "kernelspec": {
      "name": "python3",
      "display_name": "Python 3"
    },
    "language_info": {
      "name": "python"
    }
  },
  "cells": [
    {
      "cell_type": "markdown",
      "source": [
        "#Power Of A Number"
      ],
      "metadata": {
        "id": "2-ti3O1THwSo"
      }
    },
    {
      "cell_type": "code",
      "execution_count": 1,
      "metadata": {
        "id": "mJdUIwA3EcBK",
        "colab": {
          "base_uri": "https://localhost:8080/"
        },
        "outputId": "7fbf27cc-928c-44a2-c81c-926184a43c84"
      },
      "outputs": [
        {
          "output_type": "stream",
          "name": "stdout",
          "text": [
            "2 6\n",
            "64\n"
          ]
        }
      ],
      "source": [
        "def pow(x,n):\n",
        "  if n==0:\n",
        "    return 1\n",
        "  return x*pow(x,n-1)\n",
        "\n",
        "x,n = map(int,input().split())\n",
        "print(pow(x,n))"
      ]
    },
    {
      "cell_type": "markdown",
      "source": [
        "# Sum Of Array"
      ],
      "metadata": {
        "id": "k3cfmDerIIh3"
      }
    },
    {
      "cell_type": "code",
      "source": [
        "def sumArray(arr):\n",
        "  if len(arr)==1:\n",
        "    return arr[0]\n",
        "  return arr[0]+sumArray(arr[1:])\n",
        "\n",
        "\n",
        "\n",
        "\n",
        "n=int(input())\n",
        "arr=list(int(i) for i in input().strip().split(' '))\n",
        "print(sumArray(arr))\n"
      ],
      "metadata": {
        "colab": {
          "base_uri": "https://localhost:8080/"
        },
        "id": "KQJ9cyQWIR__",
        "outputId": "9ba584df-143c-4e78-c2ca-9ab1f03dedd4"
      },
      "execution_count": 2,
      "outputs": [
        {
          "output_type": "stream",
          "name": "stdout",
          "text": [
            "6\n",
            "1 7 3 2 5 8\n",
            "26\n"
          ]
        }
      ]
    },
    {
      "cell_type": "markdown",
      "source": [
        "#Check Number in Array"
      ],
      "metadata": {
        "id": "7rdvR8jXQxl1"
      }
    },
    {
      "cell_type": "code",
      "source": [
        "def checkNumber(arr,x,si):\n",
        "  if arr[si]==x:\n",
        "    return True\n",
        "  if si == len(arr)-1:\n",
        "    return False\n",
        "  return checkNumber(arr,x,si+1)\n",
        "\n",
        "n=int(input())\n",
        "arr=list(int(i) for i in input().strip().split(' '))\n",
        "x=int(input())\n",
        "if checkNumber(arr, x,0):\n",
        "    print('true')\n",
        "else:\n",
        "    print('false')"
      ],
      "metadata": {
        "colab": {
          "base_uri": "https://localhost:8080/"
        },
        "id": "QeaVbgMCQ2mW",
        "outputId": "555366ff-eaf2-4811-e899-7e1630d385dd"
      },
      "execution_count": 4,
      "outputs": [
        {
          "output_type": "stream",
          "name": "stdout",
          "text": [
            "6\n",
            "1 5 6 2 3 9\n",
            "11\n",
            "false\n"
          ]
        }
      ]
    },
    {
      "cell_type": "markdown",
      "source": [
        "# First Index of Number"
      ],
      "metadata": {
        "id": "ojbvNAFZSGDh"
      }
    },
    {
      "cell_type": "code",
      "source": [
        "def firstIndexA(arr,x,si=0):\n",
        "  if arr[si] == x:\n",
        "    return si\n",
        "\n",
        "  if si==len(arr)-1:\n",
        "    return -1\n",
        "\n",
        "  return firstIndexA(arr,x,si+1)\n",
        "\n",
        "\n",
        "def firstIndexB(arr,x):\n",
        "  if arr[0]==x:\n",
        "    return 0\n",
        "  if len(arr)==1:\n",
        "    return -1\n",
        "  smallout = firstIndexB(arr[1:],x)\n",
        "  if smallout==-1:\n",
        "    return smallout\n",
        "  else:\n",
        "    return 1+smallout\n",
        "\n",
        "n=int(input())\n",
        "arr=list(int(i) for i in input().strip().split(' '))\n",
        "x=int(input())\n",
        "print(firstIndexA(arr, x))\n",
        "print(firstIndexB(arr,x))\n",
        "\n"
      ],
      "metadata": {
        "colab": {
          "base_uri": "https://localhost:8080/"
        },
        "id": "wCkelVPeSB05",
        "outputId": "c062e5ac-91ed-4c1e-b486-0688ceaaa57d"
      },
      "execution_count": 5,
      "outputs": [
        {
          "output_type": "stream",
          "name": "stdout",
          "text": [
            "4 \n",
            "9 8 10 8 \n",
            "8\n",
            "1\n",
            "1\n"
          ]
        }
      ]
    },
    {
      "cell_type": "markdown",
      "source": [
        "#Last Index of Number"
      ],
      "metadata": {
        "id": "T33GDCitT_Zm"
      }
    },
    {
      "cell_type": "code",
      "source": [
        "def lastIndexA(arr,x,si=n-1):\n",
        "  if arr[si]==x:\n",
        "    return si\n",
        "  if si==0:\n",
        "    return -1\n",
        "  return lastIndexA(arr,x,si-1)\n",
        "\n",
        "def lastIndexB(arr,x):\n",
        "  l= len(arr)\n",
        "  if l==0:\n",
        "    return -1\n",
        "\n",
        "  smalloutput = lastIndexB(arr[1:],x)\n",
        "\n",
        "  if smalloutput!= -1:\n",
        "    return 1+smalloutput\n",
        "\n",
        "  else:\n",
        "    if arr[0]==x:\n",
        "      return 0\n",
        "    else:\n",
        "      return -1\n",
        "\n",
        "\n",
        "n = int(input())\n",
        "a = list(map(int,input().split()))\n",
        "x = int(input())\n",
        "print(lastIndexA(a,x,n-1))\n",
        "print(lastIndexB(a,x))"
      ],
      "metadata": {
        "colab": {
          "base_uri": "https://localhost:8080/"
        },
        "id": "tf3s7x4kT-LE",
        "outputId": "43418b5e-1818-42cd-ba30-82dc9d53e618"
      },
      "execution_count": 9,
      "outputs": [
        {
          "output_type": "stream",
          "name": "stdout",
          "text": [
            "9\n",
            "1 2 3 4 5 6 4 7 8\n",
            "4\n",
            "6\n",
            "6\n"
          ]
        }
      ]
    }
  ]
}