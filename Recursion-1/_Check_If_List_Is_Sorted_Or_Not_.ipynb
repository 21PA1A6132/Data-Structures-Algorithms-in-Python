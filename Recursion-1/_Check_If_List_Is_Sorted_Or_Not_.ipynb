{
  "nbformat": 4,
  "nbformat_minor": 0,
  "metadata": {
    "colab": {
      "provenance": []
    },
    "kernelspec": {
      "name": "python3",
      "display_name": "Python 3"
    },
    "language_info": {
      "name": "python"
    }
  },
  "cells": [
    {
      "cell_type": "code",
      "execution_count": 3,
      "metadata": {
        "colab": {
          "base_uri": "https://localhost:8080/"
        },
        "id": "uxzYMwZb7b3a",
        "outputId": "920077b5-b0c7-4e0d-9a61-ff56535d211c"
      },
      "outputs": [
        {
          "output_type": "stream",
          "name": "stdout",
          "text": [
            "1 2 3 4 5 6 7 0 8 9\n",
            "False\n"
          ]
        }
      ],
      "source": [
        "def sortedlist(arr):\n",
        "  l=len(arr)\n",
        "  if l==0 or l==1:\n",
        "    return True\n",
        "  if arr[0]>arr[1]:\n",
        "    return False\n",
        "  return sortedlist(arr[1:])\n",
        "\n",
        "arr = list(map(int,input().split()))\n",
        "print(sortedlist(arr))\n"
      ]
    },
    {
      "cell_type": "code",
      "source": [
        "def sortedlistBetter(arr,si=0):\n",
        "  if si==len(arr)-1 or si==1:\n",
        "    return True\n",
        "  if arr[si]>arr[si+1]:\n",
        "    return False\n",
        "  return sortedlistBetter(arr,si+1)\n",
        "\n",
        "\n",
        "arr = list(map(int,input().split()))\n",
        "print(sortedlistBetter(arr))\n",
        "\n",
        "\n"
      ],
      "metadata": {
        "colab": {
          "base_uri": "https://localhost:8080/"
        },
        "id": "cczXFF7hC7Ij",
        "outputId": "b9485be1-ec71-4a87-c703-0cfdd118ab8d"
      },
      "execution_count": 4,
      "outputs": [
        {
          "output_type": "stream",
          "name": "stdout",
          "text": [
            "1 2 3 4 5 6 7\n",
            "True\n"
          ]
        }
      ]
    }
  ]
}