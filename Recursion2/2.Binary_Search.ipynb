{
  "nbformat": 4,
  "nbformat_minor": 0,
  "metadata": {
    "colab": {
      "provenance": []
    },
    "kernelspec": {
      "name": "python3",
      "display_name": "Python 3"
    },
    "language_info": {
      "name": "python"
    }
  },
  "cells": [
    {
      "cell_type": "code",
      "execution_count": 8,
      "metadata": {
        "colab": {
          "base_uri": "https://localhost:8080/"
        },
        "id": "QX9CThiZqaro",
        "outputId": "cee539d5-8afd-4825-b201-323ff215e8bc"
      },
      "outputs": [
        {
          "output_type": "stream",
          "name": "stdout",
          "text": [
            "1 2 3 14 24 32 34 42 45 46 64\n",
            "64\n",
            "Element 64 is found at index 10\n"
          ]
        }
      ],
      "source": [
        "def Recur_Binary(arr,x,l,h):\n",
        "  if l>h:\n",
        "    return -1\n",
        "  mid = (l+h)//2\n",
        "  if arr[mid]==x:\n",
        "    return mid\n",
        "  elif arr[mid]<x:\n",
        "    return Recur_Binary(arr,x,mid+1,h)\n",
        "  else:\n",
        "    return Recur_Binary(arr,x,l,mid-1)\n",
        "arr = list(map(int,input().split()))\n",
        "x = int(input())\n",
        "l=0\n",
        "h = len(arr)-1\n",
        "ans = Recur_Binary(arr,x,l,h)\n",
        "if ans!=-1:\n",
        "  print(f\"Element {x} is found at index {ans}\")\n",
        "else:\n",
        "  print(f\"Element {x} is not found in the list\")\n"
      ]
    }
  ]
}