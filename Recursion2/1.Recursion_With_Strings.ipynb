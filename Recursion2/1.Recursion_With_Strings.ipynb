{
  "nbformat": 4,
  "nbformat_minor": 0,
  "metadata": {
    "colab": {
      "provenance": []
    },
    "kernelspec": {
      "name": "python3",
      "display_name": "Python 3"
    },
    "language_info": {
      "name": "python"
    }
  },
  "cells": [
    {
      "cell_type": "code",
      "execution_count": 3,
      "metadata": {
        "colab": {
          "base_uri": "https://localhost:8080/"
        },
        "id": "GHWGdBvaiONO",
        "outputId": "d169f7b4-09c5-409d-acce-3ed210f4d212"
      },
      "outputs": [
        {
          "output_type": "stream",
          "name": "stdout",
          "text": [
            "xaxbxc\n",
            "cacbcc\n"
          ]
        }
      ],
      "source": [
        "def replace(s,a,b):\n",
        "  if len(s)==0:\n",
        "    return s\n",
        "  smallout = replace(s[1:],a,b)\n",
        "  if s[0]==a:\n",
        "    return b+smallout\n",
        "  return s[0]+smallout\n",
        "\n",
        "s = input()\n",
        "\n",
        "print(replace(s,'x','c'))\n"
      ]
    },
    {
      "cell_type": "code",
      "source": [
        "def replacepi(s):\n",
        "    if len(s)==1 or len(s)==0:\n",
        "      return s\n",
        "    if s[0]=='p' and s[1]=='i':\n",
        "      return '3.14'+replacepi(s[2:])\n",
        "    return s[0]+replacepi(s[1:])\n",
        "s = input()\n",
        "print(replacepi(s))\n"
      ],
      "metadata": {
        "colab": {
          "base_uri": "https://localhost:8080/"
        },
        "id": "ICBXpGadkFHa",
        "outputId": "eebe80c7-bcc5-4951-b62b-ffbc6781e1e6"
      },
      "execution_count": 4,
      "outputs": [
        {
          "output_type": "stream",
          "name": "stdout",
          "text": [
            "piapibpic\n",
            "3.14a3.14b3.14c\n"
          ]
        }
      ]
    }
  ]
}