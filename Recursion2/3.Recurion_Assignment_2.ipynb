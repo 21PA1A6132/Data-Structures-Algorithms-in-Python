{
  "nbformat": 4,
  "nbformat_minor": 0,
  "metadata": {
    "colab": {
      "provenance": []
    },
    "kernelspec": {
      "name": "python3",
      "display_name": "Python 3"
    },
    "language_info": {
      "name": "python"
    }
  },
  "cells": [
    {
      "cell_type": "markdown",
      "source": [
        "#RemoveX\n",
        "Given a string, compute recursively a new string where all 'x' chars have been removed."
      ],
      "metadata": {
        "id": "dARMIMLxlU_V"
      }
    },
    {
      "cell_type": "code",
      "execution_count": 5,
      "metadata": {
        "colab": {
          "base_uri": "https://localhost:8080/"
        },
        "id": "-eNrYK80lKPd",
        "outputId": "39d6c7bf-f6c0-46aa-d02c-e0db6a29f547"
      },
      "outputs": [
        {
          "output_type": "stream",
          "name": "stdout",
          "text": [
            "xaxbxhxi\n",
            "abhi\n"
          ]
        }
      ],
      "source": [
        "def RemoveX(s):\n",
        "  if len(s)==0:\n",
        "    return s\n",
        "  smallout = RemoveX(s[1:])\n",
        "  if s[0]=='x':\n",
        "    return smallout\n",
        "  else:\n",
        "    return s[0]+smallout\n",
        "\n",
        "s = input()\n",
        "print(RemoveX(s))"
      ]
    },
    {
      "cell_type": "markdown",
      "source": [
        "#RemoveConsecutiveDuplicates\n",
        "Given a string S, remove consecutive duplicates from it recursively."
      ],
      "metadata": {
        "id": "KE9YZLfrmwJw"
      }
    },
    {
      "cell_type": "code",
      "source": [
        "def removeConsecutiveDuplicates(s):\n",
        "  if len(s)==0 or len(s)==1:\n",
        "    return s\n",
        "  smallout = removeConsecutiveDuplicates(s[1:])\n",
        "  if s[0]==smallout[0]:\n",
        "    return smallout\n",
        "  else:\n",
        "    return s[0]+smallout\n",
        "\n",
        "s = 'aaabbbhhii'\n",
        "print(removeConsecutiveDuplicates(s))"
      ],
      "metadata": {
        "colab": {
          "base_uri": "https://localhost:8080/"
        },
        "id": "Air6-lfBm1zq",
        "outputId": "b0148fdc-68c0-4c26-c845-910355aea5a6"
      },
      "execution_count": 8,
      "outputs": [
        {
          "output_type": "stream",
          "name": "stdout",
          "text": [
            "abhi\n"
          ]
        }
      ]
    },
    {
      "cell_type": "markdown",
      "source": [
        "#Merge Sort\n",
        "You are given the starting 'l' and the ending 'r' positions of the array 'ARR'.\n",
        "You must sort the elements between 'l' and 'r'."
      ],
      "metadata": {
        "id": "IE-qIrBV-gZW"
      }
    },
    {
      "cell_type": "code",
      "source": [
        "def merge(a,b):\n",
        "  i=0\n",
        "  j=0\n",
        "  if not a:\n",
        "    return b\n",
        "  if not b:\n",
        "    return a\n",
        "  arr = [0]*(len(a)+len(b))\n",
        "  k=0\n",
        "  while(i<len(a) and j<len(b)):\n",
        "    if a[i]<=b[j]:\n",
        "      arr[k] = a[i]\n",
        "      i+=1\n",
        "    else:\n",
        "      arr[k] = b[j]\n",
        "      j+=1\n",
        "    k+=1\n",
        "  while(i<len(a)):\n",
        "    arr[k]=a[i]\n",
        "    i+=1\n",
        "    k+=1\n",
        "  while(j<len(b)):\n",
        "    arr[k] = b[j]\n",
        "    j+=1\n",
        "    k+=1\n",
        "  return arr\n",
        "\n",
        "\n",
        "def mergesort(arr,l,r):\n",
        "  if l>=r:\n",
        "    return arr[l:r+1]\n",
        "  mid = (l+r)//2\n",
        "  a= mergesort(arr,l,mid)\n",
        "  b = mergesort(arr,mid+1,r)\n",
        "  return merge(a,b)\n",
        "\n",
        "\n",
        "\n",
        "arr = list(map(int,input().split()))\n",
        "l=0\n",
        "r = len(arr)-1\n",
        "sorted_arr=mergesort(arr,l,r)\n",
        "print(sorted_arr)\n"
      ],
      "metadata": {
        "colab": {
          "base_uri": "https://localhost:8080/"
        },
        "id": "jjh1r_6h-lEl",
        "outputId": "3682a4bc-3517-4e14-ea66-294a8e63918d"
      },
      "execution_count": 3,
      "outputs": [
        {
          "output_type": "stream",
          "name": "stdout",
          "text": [
            "1 41 45 34 24 32 64 46 42 53 31 11 21\n",
            "[1, 11, 21, 24, 31, 32, 34, 41, 42, 45, 46, 53, 64]\n"
          ]
        }
      ]
    },
    {
      "cell_type": "code",
      "source": [
        "def Merge_inplace(arr,l,m,r):\n",
        "  L = arr[l:m+1]\n",
        "  R = arr[m+1:r+1]\n",
        "\n",
        "  i,j=0,0\n",
        "  k= l\n",
        "  while(i<len(L) and j <len(R)):\n",
        "    if L[i]<=R[j]:\n",
        "      arr[k]=L[i]\n",
        "      i+=1\n",
        "    else:\n",
        "      arr[k]=R[j]\n",
        "      j+=1\n",
        "    k+=1\n",
        "\n",
        "  while(i<len(L)):\n",
        "    arr[k]=L[i]\n",
        "    i+=1\n",
        "    k+=1\n",
        "  while(j<len(R)):\n",
        "    arr[k]=R[j]\n",
        "    j+=1\n",
        "    k+=1\n",
        "\n",
        "\n",
        "def mergesort_inplace(arr,l,r):\n",
        "  if l>=r:\n",
        "    return arr[l:r+1]\n",
        "  m = (l+r)//2\n",
        "  mergesort_inplace(arr,l,m)\n",
        "  mergesort_inplace(arr,m+1,r)\n",
        "\n",
        "  merge(arr,l,m,r)\n",
        "\n",
        "\n",
        "arr = list(map(int,input().split()))\n",
        "l=0\n",
        "r = len(arr)-1\n",
        "sorted_arr=mergesort(arr,l,r)\n",
        "print(sorted_arr)\n",
        "\n"
      ],
      "metadata": {
        "colab": {
          "base_uri": "https://localhost:8080/"
        },
        "id": "jAleif0X5OgL",
        "outputId": "381b81a6-5549-400f-ad2e-0d4868977b8b"
      },
      "execution_count": 4,
      "outputs": [
        {
          "output_type": "stream",
          "name": "stdout",
          "text": [
            "1 41 29 42 32 24 53 31 46 34 64\n",
            "[1, 24, 29, 31, 32, 34, 41, 42, 46, 53, 64]\n"
          ]
        }
      ]
    },
    {
      "cell_type": "markdown",
      "source": [
        "#Quick Sort\n",
        "\n",
        "Given the 'start' and the 'end'' positions of the array 'input'. Your task is to sort the elements between 'start' and 'end' using quick sort.\n"
      ],
      "metadata": {
        "id": "Liwhttot8Sh_"
      }
    },
    {
      "cell_type": "code",
      "source": [
        "def partition(arr,si,ei):\n",
        "  pivot = arr[si]\n",
        "  c=0\n",
        "  for i in range(si,ei+1):\n",
        "    if arr[i]<pivot:\n",
        "      c+=1\n",
        "  arr[si],arr[si+c]=arr[si+c],arr[si]\n",
        "\n",
        "  pivot_index = si+c\n",
        "  i,j = si,ei\n",
        "  while i<pivot_index and j > pivot_index:\n",
        "    if arr[i]<pivot:\n",
        "      i+=1\n",
        "    elif arr[j]>=pivot:\n",
        "      j-=1\n",
        "    else:\n",
        "      arr[i],arr[j] = arr[j],arr[i]\n",
        "      i+=1\n",
        "      j-=1\n",
        "  return pivot_index\n",
        "\n",
        "\n",
        "\n",
        "def quicksort(arr,si,ei):\n",
        "  if si<ei:\n",
        "    pivot_index = partition(arr,si,ei)\n",
        "    quicksort(arr,si,pivot_index-1)\n",
        "    quicksort(arr,pivot_index+1,ei)\n",
        "\n",
        "arr = list(map(int,input().split()))\n",
        "si=0\n",
        "ei = len(arr)-1\n",
        "quicksort(arr,si,ei)\n",
        "print(arr)"
      ],
      "metadata": {
        "colab": {
          "base_uri": "https://localhost:8080/"
        },
        "id": "qbsu6x9I8YMW",
        "outputId": "346caffa-ad76-4153-f6d6-ed5535593cf0"
      },
      "execution_count": 15,
      "outputs": [
        {
          "output_type": "stream",
          "name": "stdout",
          "text": [
            "1 41 21 11 32 24 31 53 42 29 64 46 34 28\n",
            "[1, 11, 21, 24, 28, 29, 31, 32, 34, 41, 42, 46, 53, 64]\n"
          ]
        }
      ]
    },
    {
      "cell_type": "markdown",
      "source": [
        "#Tower Of Hanoi\n",
        "\n",
        "Tower of Hanoi is a mathematical puzzle where we have three rods and n disks. The objective of the puzzle is to move all disks from source rod to destination rod using third rod (say auxiliary).\n",
        "\n",
        "The rules are :\n",
        "\n",
        "1. Only one disk can be moved at a time.\n",
        "2. A disk can be moved only if it is on the top of a rod.\n",
        "3.No disk can be placed on the top of a smaller disk.\n"
      ],
      "metadata": {
        "id": "pykIAmC5BmiC"
      }
    },
    {
      "cell_type": "code",
      "source": [
        "def towerofhanoi(n, source, aux, dest):\n",
        "    # Please add your code here\n",
        "    if n==0:\n",
        "        return\n",
        "    if n==1:\n",
        "        print(f'disk {n} from {source} to {dest}')\n",
        "        return\n",
        "    towerofhanoi(n-1,source,dest,aux)\n",
        "    print(f'disk {n} from {source} to {dest}')\n",
        "    towerofhanoi(n-1,aux,source,dest)\n",
        "    pass\n",
        "\n",
        "n=int(input())\n",
        "towerofhanoi(n, 'a', 'b', 'c')"
      ],
      "metadata": {
        "colab": {
          "base_uri": "https://localhost:8080/"
        },
        "id": "PQvqeS3PBl6W",
        "outputId": "1c4e65d1-4173-4395-e3d5-c697d1fb220c"
      },
      "execution_count": 18,
      "outputs": [
        {
          "output_type": "stream",
          "name": "stdout",
          "text": [
            "3\n",
            "disk 1 from a to c\n",
            "disk 2 from a to b\n",
            "disk 1 from c to b\n",
            "disk 3 from a to c\n",
            "disk 1 from b to a\n",
            "disk 2 from b to c\n",
            "disk 1 from a to c\n"
          ]
        }
      ]
    }
  ]
}